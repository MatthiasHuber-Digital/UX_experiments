{
 "cells": [
  {
   "cell_type": "code",
   "execution_count": 5,
   "id": "80c82327",
   "metadata": {},
   "outputs": [
    {
     "data": {
      "application/vnd.jupyter.widget-view+json": {
       "model_id": "2fff772b9e6648e596aed2c870dfa5ed",
       "version_major": 2,
       "version_minor": 0
      },
      "text/plain": [
       "interactive(children=(Output(),), _dom_classes=('widget-interact',))"
      ]
     },
     "metadata": {},
     "output_type": "display_data"
    }
   ],
   "source": [
    "import plotly.express as px\n",
    "import ipywidgets as widgets\n",
    "import random\n",
    "\n",
    "def show_plot():\n",
    "    # Generate random data\n",
    "    x_data = [random.randint(1, 10) for i in range(50)]\n",
    "    y_data = [random.randint(1, 10) for i in range(50)]\n",
    "\n",
    "    # Create the scatter plot using Plotly Express\n",
    "    fig = px.scatter(x=x_data, y=y_data)\n",
    "    fig.show()\n",
    "\n",
    "\n",
    "display(widgets.interactive(\n",
    "        show_plot))"
   ]
  },
  {
   "cell_type": "code",
   "execution_count": null,
   "id": "63aec091",
   "metadata": {},
   "outputs": [],
   "source": []
  }
 ],
 "metadata": {
  "kernelspec": {
   "display_name": "Python 3 (ipykernel)",
   "language": "python",
   "name": "python3"
  },
  "language_info": {
   "codemirror_mode": {
    "name": "ipython",
    "version": 3
   },
   "file_extension": ".py",
   "mimetype": "text/x-python",
   "name": "python",
   "nbconvert_exporter": "python",
   "pygments_lexer": "ipython3",
   "version": "3.9.0"
  }
 },
 "nbformat": 4,
 "nbformat_minor": 5
}
