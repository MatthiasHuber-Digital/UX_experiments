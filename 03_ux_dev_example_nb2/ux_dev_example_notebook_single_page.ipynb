{
 "cells": [
  {
   "cell_type": "code",
   "execution_count": 1,
   "metadata": {},
   "outputs": [],
   "source": [
    "import ipywidgets as widgets\n",
    "from ipywidgets import interact\n",
    "from ipyfilechooser import FileChooser\n",
    "import pandas as pd\n",
    "import plotly.express as px\n",
    "import plotly.graph_objects as go\n",
    "import functools\n",
    "from typing import Callable\n",
    "\n",
    "\n",
    "# Create file choosers\n",
    "folder_chooser = FileChooser(use_dir_icons=True, show_only_dirs=True, title='Select working folder:', \n",
    "                             layout=widgets.Layout(width='50%'))\n",
    "train_csv_chooser = FileChooser(use_dir_icons=True, filter_pattern=[\"*.csv\"], title='Select train data (.csv):', \n",
    "                              layout=widgets.Layout(width='50%'))\n",
    "test_csv_chooser = FileChooser(use_dir_icons=True, filter_pattern=[\"*.csv\"], title='Select test data (.csv):', \n",
    "                              layout=widgets.Layout(width='50%'))\n",
    "\n",
    "# Create tab 1 contents\n",
    "tab1_folder_label = widgets.Label(value='Folder chooser:', layout=widgets.Layout(width='200px'))\n",
    "tab1_folder_box = widgets.HBox([tab1_folder_label, folder_chooser])\n",
    "tab1_train_csv_label = widgets.Label(value='Train .csv chooser:', layout=widgets.Layout(width='200px'))\n",
    "tab1_test_csv_label = widgets.Label(value='Test .csv chooser:', layout=widgets.Layout(width='200px'))\n",
    "tab1_file_box = widgets.VBox([widgets.HBox([tab1_train_csv_label, train_csv_chooser]), widgets.HBox([tab1_test_csv_label, test_csv_chooser])])"
   ]
  },
  {
   "cell_type": "code",
   "execution_count": 2,
   "metadata": {},
   "outputs": [],
   "source": [
    "# Create tab 2 contents\n",
    "# Create dropdowns for selecting columns\n",
    "tab2_dropdown1 = widgets.Dropdown(options=[], layout=widgets.Layout(width='200px'))\n",
    "tab2_dropdown2 = widgets.Dropdown(options=[], layout=widgets.Layout(width='200px'))\n",
    "\n",
    "# Create warning label\n",
    "warning_label = widgets.Label(value='Warning: you need to select different columns.', layout=widgets.Layout(visibility=\"hidden\", width='50%'))\n",
    "def callback_dropdown_warning(*args):\n",
    "    if tab2_dropdown1.value == tab2_dropdown2.value and tab2_dropdown1.value and tab2_dropdown2.value:\n",
    "        warning_label.layout.visibility = \"visible\"\n",
    "    else:\n",
    "        warning_label.layout.visibility = \"hidden\"\n",
    "\n",
    "tab2_dropdown2.observe(callback_dropdown_warning, names=\"value\")\n",
    "tab2_dropdown1.observe(callback_dropdown_warning, names=\"value\")\n",
    "\n",
    "# Function to update dropdowns and show/hide warning label\n",
    "def update_dropdowns(*args):\n",
    "    if train_csv_chooser.selected:\n",
    "        df = pd.read_csv(train_csv_chooser.selected)\n",
    "        tab2_dropdown1.options = list(df.columns)\n",
    "        tab2_dropdown2.options = list(df.columns)\n",
    "# Attach the update_dropdowns function to the parquet file chooser\n",
    "train_csv_chooser.register_callback(update_dropdowns)\n",
    "\n",
    "tab2_dropdown1_label = widgets.Label(value='Select x-data column:', layout=widgets.Layout(width='200px'))\n",
    "tab2_dropdown1_box = widgets.HBox([tab2_dropdown1_label, tab2_dropdown1])\n",
    "\n",
    "tab2_dropdown2_label = widgets.Label(value='Select label (y) column:', layout=widgets.Layout(width='200px'))\n",
    "tab2_dropdown2_box = widgets.HBox([tab2_dropdown2_label, tab2_dropdown2])\n",
    "\n",
    "tab2_warning_box = widgets.VBox([warning_label])"
   ]
  },
  {
   "cell_type": "code",
   "execution_count": 3,
   "metadata": {},
   "outputs": [],
   "source": [
    "tab2_label_render = widgets.Label(\"Render plot:\", layout=widgets.Layout(width='200px'))\n",
    "tab2_button_render = widgets.Button(description=\"render\", layout=widgets.Layout(width='100px'))\n",
    "tab2_button_box = widgets.HBox([tab2_label_render, tab2_button_render])\n",
    "\n",
    "tab2_plot_label = widgets.Label(\"Label-vs-x plot\", layout=widgets.Layout(width='200px'))\n",
    "\n",
    "import random\n",
    "\n",
    "def plotly_to_widget(plotly_func: Callable) -> Callable:\n",
    "    @functools.wraps(plotly_func)\n",
    "    def wrapper(*args, **kwargs):\n",
    "        return go.FigureWidget(plotly_func(*args, **kwargs))\n",
    "\n",
    "    return wrapper\n",
    "\n",
    "def render_plot(*args):\n",
    "    if tab2_dropdown1.value != tab2_dropdown2.value and tab2_dropdown1.value and tab2_dropdown2.value:\n",
    "        x_col = tab2_dropdown1.value\n",
    "        y_col = tab2_dropdown2.value\n",
    "        df = pd.read_csv(train_csv_chooser.value)\n",
    "        fig = go.FigureWidget(go.Scatter(x=df[x_col].to_numpy(), y=df[y_col].to_numpy()))\n",
    "        \n",
    "        \n",
    "        fig = go.Figure()\n",
    "\n",
    "        fig.add_trace(\n",
    "            go.Scatter(\n",
    "                x=list(trace[\"x_data\"]),\n",
    "                y=list(trace[\"y_data\"]),\n",
    "                name=trace[\"name\"],\n",
    "                text=trace[\"dot_labels\"],\n",
    "                hovertemplate=\"%{text}\",\n",
    "                legendgroup=trace[\"group\"],\n",
    "                legendgrouptitle_text=trace[\"group\"].capitalize(),\n",
    "                mode=\"markers\",\n",
    "                marker=trace[\"marker\"],\n",
    "                visible=trace[\"visible\"],\n",
    "            )\n",
    "        )\n",
    "        \n",
    "        return fig\n",
    "        \n",
    "def render_then_box(*args):\n",
    "    fig = render_plot()\n",
    "    tab2_plot_box = widgets.HBox([tab2_plot_label, fig])\n",
    "    display(tab2_plot_box)\n",
    "        \n",
    "tab2_button_render.on_click(render_then_box)\n"
   ]
  },
  {
   "cell_type": "code",
   "execution_count": 4,
   "metadata": {},
   "outputs": [
    {
     "data": {
      "application/vnd.jupyter.widget-view+json": {
       "model_id": "22bbcf167b174985998ca08c489350e7",
       "version_major": 2,
       "version_minor": 0
      },
      "text/plain": [
       "VBox(children=(HBox(children=(Label(value='Folder chooser:', layout=Layout(width='200px')), FileChooser(path='…"
      ]
     },
     "metadata": {},
     "output_type": "display_data"
    },
    {
     "data": {
      "application/vnd.jupyter.widget-view+json": {
       "model_id": "c0697ab729164f9286b4cd38e17c204f",
       "version_major": 2,
       "version_minor": 0
      },
      "text/plain": [
       "HBox(children=(Label(value='Label-vs-x plot', layout=Layout(width='200px')), FigureWidget({\n",
       "    'data': [{'typ…"
      ]
     },
     "metadata": {},
     "output_type": "display_data"
    }
   ],
   "source": [
    "panel_widget = widgets.VBox([\n",
    "    tab1_folder_box, \n",
    "    tab1_file_box, \n",
    "    tab2_dropdown1_box, \n",
    "    tab2_dropdown2_box, \n",
    "    tab2_warning_box, \n",
    "    tab2_button_box],\n",
    ")\n",
    "\n",
    "# Display the tabs widget\n",
    "display(panel_widget)"
   ]
  },
  {
   "cell_type": "code",
   "execution_count": null,
   "metadata": {},
   "outputs": [],
   "source": [
    "\n",
    "\n",
    "\n",
    "#fig.show()\n",
    "\n",
    "@interact\n",
    "def render_plot(*args):\n",
    "    if tab2_dropdown1.value != tab2_dropdown2.value and tab2_dropdown1.value and tab2_dropdown2.value:\n",
    "        x_col = tab2_dropdown1.value\n",
    "        y_col = tab2_dropdown2.value\n",
    "        df = pd.read_csv(train_csv_chooser.value)\n",
    "        fig = go.FigureWidget()\n",
    "        fig.add_scatter(x=df[x_col].to_numpy(), y=df[y_col].to_numpy())\n",
    "        tab2_plot_box = widgets.HBox([tab2_plot_label, fig])\n",
    "        display(fig)\n",
    "tab2_button_render.on_click(render_plot)"
   ]
  },
  {
   "cell_type": "code",
   "execution_count": null,
   "metadata": {},
   "outputs": [],
   "source": []
  },
  {
   "cell_type": "code",
   "execution_count": null,
   "metadata": {},
   "outputs": [],
   "source": []
  }
 ],
 "metadata": {
  "kernelspec": {
   "display_name": "Python 3 (ipykernel)",
   "language": "python",
   "name": "python3"
  },
  "language_info": {
   "codemirror_mode": {
    "name": "ipython",
    "version": 3
   },
   "file_extension": ".py",
   "mimetype": "text/x-python",
   "name": "python",
   "nbconvert_exporter": "python",
   "pygments_lexer": "ipython3",
   "version": "3.9.0"
  }
 },
 "nbformat": 4,
 "nbformat_minor": 1
}
