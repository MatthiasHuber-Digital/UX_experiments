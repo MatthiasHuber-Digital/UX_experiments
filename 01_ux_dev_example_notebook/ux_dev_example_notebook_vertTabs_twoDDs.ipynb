{
 "cells": [
  {
   "cell_type": "code",
   "execution_count": 1,
   "metadata": {},
   "outputs": [
    {
     "data": {
      "application/vnd.jupyter.widget-view+json": {
       "model_id": "4386d985981d40bd96b882eab1f1f33e",
       "version_major": 2,
       "version_minor": 0
      },
      "text/plain": [
       "Tab(children=(VBox(children=(HBox(children=(Label(value='Folder chooser:', layout=Layout(width='200px')), File…"
      ]
     },
     "metadata": {},
     "output_type": "display_data"
    },
    {
     "ename": "ImportError",
     "evalue": "Unable to find a usable engine; tried using: 'pyarrow', 'fastparquet'.\nA suitable version of pyarrow or fastparquet is required for parquet support.\nTrying to import the above resulted in these errors:\n - Missing optional dependency 'pyarrow'. pyarrow is required for parquet support. Use pip or conda to install pyarrow.\n - Missing optional dependency 'fastparquet'. fastparquet is required for parquet support. Use pip or conda to install fastparquet.",
     "output_type": "error",
     "traceback": [
      "\u001b[1;31m---------------------------------------------------------------------------\u001b[0m",
      "\u001b[1;31mImportError\u001b[0m                               Traceback (most recent call last)",
      "File \u001b[1;32mC:\\workspace\\100_Website\\100_Ipynb_plus_mybinder\\ipynb_mybinder\\lib\\site-packages\\ipyfilechooser\\filechooser.py:317\u001b[0m, in \u001b[0;36mFileChooser._on_select_click\u001b[1;34m(self, _b)\u001b[0m\n\u001b[0;32m    315\u001b[0m \u001b[38;5;28;01mif\u001b[39;00m \u001b[38;5;28mself\u001b[39m\u001b[38;5;241m.\u001b[39m_callback \u001b[38;5;129;01mis\u001b[39;00m \u001b[38;5;129;01mnot\u001b[39;00m \u001b[38;5;28;01mNone\u001b[39;00m:\n\u001b[0;32m    316\u001b[0m     \u001b[38;5;28;01mtry\u001b[39;00m:\n\u001b[1;32m--> 317\u001b[0m         \u001b[38;5;28;43mself\u001b[39;49m\u001b[38;5;241;43m.\u001b[39;49m\u001b[43m_callback\u001b[49m\u001b[43m(\u001b[49m\u001b[38;5;28;43mself\u001b[39;49m\u001b[43m)\u001b[49m\n\u001b[0;32m    318\u001b[0m     \u001b[38;5;28;01mexcept\u001b[39;00m \u001b[38;5;167;01mTypeError\u001b[39;00m:\n\u001b[0;32m    319\u001b[0m         \u001b[38;5;66;03m# Support previous behaviour of not passing self\u001b[39;00m\n\u001b[0;32m    320\u001b[0m         \u001b[38;5;28mself\u001b[39m\u001b[38;5;241m.\u001b[39m_callback()\n",
      "Cell \u001b[1;32mIn[1], line 37\u001b[0m, in \u001b[0;36mupdate_dropdowns\u001b[1;34m(*args)\u001b[0m\n\u001b[0;32m     35\u001b[0m \u001b[38;5;28;01mdef\u001b[39;00m \u001b[38;5;21mupdate_dropdowns\u001b[39m(\u001b[38;5;241m*\u001b[39margs):\n\u001b[0;32m     36\u001b[0m     \u001b[38;5;28;01mif\u001b[39;00m parquet_chooser\u001b[38;5;241m.\u001b[39mselected:\n\u001b[1;32m---> 37\u001b[0m         df \u001b[38;5;241m=\u001b[39m \u001b[43mpd\u001b[49m\u001b[38;5;241;43m.\u001b[39;49m\u001b[43mread_parquet\u001b[49m\u001b[43m(\u001b[49m\u001b[43mparquet_chooser\u001b[49m\u001b[38;5;241;43m.\u001b[39;49m\u001b[43mselected\u001b[49m\u001b[43m)\u001b[49m\n\u001b[0;32m     38\u001b[0m         tab2_dropdown1\u001b[38;5;241m.\u001b[39moptions \u001b[38;5;241m=\u001b[39m \u001b[38;5;28mlist\u001b[39m(df\u001b[38;5;241m.\u001b[39mcolumns)\n\u001b[0;32m     39\u001b[0m         tab2_dropdown2\u001b[38;5;241m.\u001b[39moptions \u001b[38;5;241m=\u001b[39m \u001b[38;5;28mlist\u001b[39m(df\u001b[38;5;241m.\u001b[39mcolumns)\n",
      "File \u001b[1;32mC:\\workspace\\100_Website\\100_Ipynb_plus_mybinder\\ipynb_mybinder\\lib\\site-packages\\pandas\\io\\parquet.py:501\u001b[0m, in \u001b[0;36mread_parquet\u001b[1;34m(path, engine, columns, storage_options, use_nullable_dtypes, **kwargs)\u001b[0m\n\u001b[0;32m    447\u001b[0m \u001b[38;5;129m@doc\u001b[39m(storage_options\u001b[38;5;241m=\u001b[39m_shared_docs[\u001b[38;5;124m\"\u001b[39m\u001b[38;5;124mstorage_options\u001b[39m\u001b[38;5;124m\"\u001b[39m])\n\u001b[0;32m    448\u001b[0m \u001b[38;5;28;01mdef\u001b[39;00m \u001b[38;5;21mread_parquet\u001b[39m(\n\u001b[0;32m    449\u001b[0m     path: FilePath \u001b[38;5;241m|\u001b[39m ReadBuffer[\u001b[38;5;28mbytes\u001b[39m],\n\u001b[1;32m   (...)\u001b[0m\n\u001b[0;32m    454\u001b[0m     \u001b[38;5;241m*\u001b[39m\u001b[38;5;241m*\u001b[39mkwargs,\n\u001b[0;32m    455\u001b[0m ) \u001b[38;5;241m-\u001b[39m\u001b[38;5;241m>\u001b[39m DataFrame:\n\u001b[0;32m    456\u001b[0m \u001b[38;5;250m    \u001b[39m\u001b[38;5;124;03m\"\"\"\u001b[39;00m\n\u001b[0;32m    457\u001b[0m \u001b[38;5;124;03m    Load a parquet object from the file path, returning a DataFrame.\u001b[39;00m\n\u001b[0;32m    458\u001b[0m \n\u001b[1;32m   (...)\u001b[0m\n\u001b[0;32m    499\u001b[0m \u001b[38;5;124;03m    DataFrame\u001b[39;00m\n\u001b[0;32m    500\u001b[0m \u001b[38;5;124;03m    \"\"\"\u001b[39;00m\n\u001b[1;32m--> 501\u001b[0m     impl \u001b[38;5;241m=\u001b[39m \u001b[43mget_engine\u001b[49m\u001b[43m(\u001b[49m\u001b[43mengine\u001b[49m\u001b[43m)\u001b[49m\n\u001b[0;32m    503\u001b[0m     \u001b[38;5;28;01mreturn\u001b[39;00m impl\u001b[38;5;241m.\u001b[39mread(\n\u001b[0;32m    504\u001b[0m         path,\n\u001b[0;32m    505\u001b[0m         columns\u001b[38;5;241m=\u001b[39mcolumns,\n\u001b[1;32m   (...)\u001b[0m\n\u001b[0;32m    508\u001b[0m         \u001b[38;5;241m*\u001b[39m\u001b[38;5;241m*\u001b[39mkwargs,\n\u001b[0;32m    509\u001b[0m     )\n",
      "File \u001b[1;32mC:\\workspace\\100_Website\\100_Ipynb_plus_mybinder\\ipynb_mybinder\\lib\\site-packages\\pandas\\io\\parquet.py:52\u001b[0m, in \u001b[0;36mget_engine\u001b[1;34m(engine)\u001b[0m\n\u001b[0;32m     49\u001b[0m         \u001b[38;5;28;01mexcept\u001b[39;00m \u001b[38;5;167;01mImportError\u001b[39;00m \u001b[38;5;28;01mas\u001b[39;00m err:\n\u001b[0;32m     50\u001b[0m             error_msgs \u001b[38;5;241m+\u001b[39m\u001b[38;5;241m=\u001b[39m \u001b[38;5;124m\"\u001b[39m\u001b[38;5;130;01m\\n\u001b[39;00m\u001b[38;5;124m - \u001b[39m\u001b[38;5;124m\"\u001b[39m \u001b[38;5;241m+\u001b[39m \u001b[38;5;28mstr\u001b[39m(err)\n\u001b[1;32m---> 52\u001b[0m     \u001b[38;5;28;01mraise\u001b[39;00m \u001b[38;5;167;01mImportError\u001b[39;00m(\n\u001b[0;32m     53\u001b[0m         \u001b[38;5;124m\"\u001b[39m\u001b[38;5;124mUnable to find a usable engine; \u001b[39m\u001b[38;5;124m\"\u001b[39m\n\u001b[0;32m     54\u001b[0m         \u001b[38;5;124m\"\u001b[39m\u001b[38;5;124mtried using: \u001b[39m\u001b[38;5;124m'\u001b[39m\u001b[38;5;124mpyarrow\u001b[39m\u001b[38;5;124m'\u001b[39m\u001b[38;5;124m, \u001b[39m\u001b[38;5;124m'\u001b[39m\u001b[38;5;124mfastparquet\u001b[39m\u001b[38;5;124m'\u001b[39m\u001b[38;5;124m.\u001b[39m\u001b[38;5;130;01m\\n\u001b[39;00m\u001b[38;5;124m\"\u001b[39m\n\u001b[0;32m     55\u001b[0m         \u001b[38;5;124m\"\u001b[39m\u001b[38;5;124mA suitable version of \u001b[39m\u001b[38;5;124m\"\u001b[39m\n\u001b[0;32m     56\u001b[0m         \u001b[38;5;124m\"\u001b[39m\u001b[38;5;124mpyarrow or fastparquet is required for parquet \u001b[39m\u001b[38;5;124m\"\u001b[39m\n\u001b[0;32m     57\u001b[0m         \u001b[38;5;124m\"\u001b[39m\u001b[38;5;124msupport.\u001b[39m\u001b[38;5;130;01m\\n\u001b[39;00m\u001b[38;5;124m\"\u001b[39m\n\u001b[0;32m     58\u001b[0m         \u001b[38;5;124m\"\u001b[39m\u001b[38;5;124mTrying to import the above resulted in these errors:\u001b[39m\u001b[38;5;124m\"\u001b[39m\n\u001b[0;32m     59\u001b[0m         \u001b[38;5;124mf\u001b[39m\u001b[38;5;124m\"\u001b[39m\u001b[38;5;132;01m{\u001b[39;00merror_msgs\u001b[38;5;132;01m}\u001b[39;00m\u001b[38;5;124m\"\u001b[39m\n\u001b[0;32m     60\u001b[0m     )\n\u001b[0;32m     62\u001b[0m \u001b[38;5;28;01mif\u001b[39;00m engine \u001b[38;5;241m==\u001b[39m \u001b[38;5;124m\"\u001b[39m\u001b[38;5;124mpyarrow\u001b[39m\u001b[38;5;124m\"\u001b[39m:\n\u001b[0;32m     63\u001b[0m     \u001b[38;5;28;01mreturn\u001b[39;00m PyArrowImpl()\n",
      "\u001b[1;31mImportError\u001b[0m: Unable to find a usable engine; tried using: 'pyarrow', 'fastparquet'.\nA suitable version of pyarrow or fastparquet is required for parquet support.\nTrying to import the above resulted in these errors:\n - Missing optional dependency 'pyarrow'. pyarrow is required for parquet support. Use pip or conda to install pyarrow.\n - Missing optional dependency 'fastparquet'. fastparquet is required for parquet support. Use pip or conda to install fastparquet."
     ]
    }
   ],
   "source": [
    "import ipywidgets as widgets\n",
    "from ipyfilechooser import FileChooser\n",
    "import pandas as pd\n",
    "\n",
    "# Create file choosers\n",
    "folder_chooser = FileChooser(use_dir_icons=True, show_only_dirs=True, title='Select folder:', \n",
    "                             layout=widgets.Layout(width='50%'))\n",
    "parquet_chooser = FileChooser(use_dir_icons=True, filter_pattern=[\"*.parquet\"], title='Select .parquet file:', \n",
    "                              layout=widgets.Layout(width='50%'))\n",
    "\n",
    "# Create tab 1 contents\n",
    "tab1_folder_label = widgets.Label(value='Folder chooser:', layout=widgets.Layout(width='200px'))\n",
    "tab1_folder_box = widgets.HBox([tab1_folder_label, folder_chooser])\n",
    "tab1_parquet_label = widgets.Label(value='Parquet chooser:', layout=widgets.Layout(width='200px'))\n",
    "tab1_parquet_box = widgets.HBox([tab1_parquet_label, parquet_chooser])\n",
    "tab1_box = widgets.VBox([tab1_folder_box, tab1_parquet_box])\n",
    "\n",
    "# Create tab 2 contents\n",
    "# Create dropdowns for selecting columns\n",
    "tab2_dropdown1 = widgets.Dropdown(options=[], layout=widgets.Layout(width='200px'))\n",
    "tab2_dropdown2 = widgets.Dropdown(options=[], layout=widgets.Layout(width='200px'))\n",
    "\n",
    "# Create warning label\n",
    "warning_label = widgets.Label(value='Warning: you need to select different columns.', layout=widgets.Layout(visibility=\"hidden\", width='50%'))\n",
    "def callback_dropdown_warning(*args):\n",
    "    if tab2_dropdown1.value == tab2_dropdown2.value and tab2_dropdown1.value and tab2_dropdown2.value:\n",
    "        warning_label.layout.visibility = \"visible\"\n",
    "    else:\n",
    "        warning_label.layout.visibility = \"hidden\"\n",
    "\n",
    "tab2_dropdown2.observe(callback_dropdown_warning, names=\"value\")\n",
    "tab2_dropdown1.observe(callback_dropdown_warning, names=\"value\")\n",
    "\n",
    "# Function to update dropdowns and show/hide warning label\n",
    "def update_dropdowns(*args):\n",
    "    if parquet_chooser.selected:\n",
    "        df = pd.read_parquet(parquet_chooser.selected)\n",
    "        tab2_dropdown1.options = list(df.columns)\n",
    "        tab2_dropdown2.options = list(df.columns)\n",
    "\n",
    "tab2_dropdown1_label = widgets.Label(value='Select filepath column:', layout=widgets.Layout(width='200px'))\n",
    "tab2_dropdown1_box = widgets.HBox([tab2_dropdown1_label, tab2_dropdown1])\n",
    "\n",
    "tab2_dropdown2_label = widgets.Label(value='Select label column:', layout=widgets.Layout(width='200px'))\n",
    "tab2_dropdown2_box = widgets.HBox([tab2_dropdown2_label, tab2_dropdown2])\n",
    "\n",
    "tab2_warning_box = widgets.VBox([warning_label])\n",
    "\n",
    "tab2_label_render = widgets.Label(\"Render plot:\", layout=widgets.Layout(width='200px'))\n",
    "tab2_button_render = widgets.Button(description=\"render\", layout=widgets.Layout(width='100px'))\n",
    "tab2_button_box = widgets.HBox([tab2_label_render, tab2_button_render])\n",
    "\n",
    "tab2_plot_label = widgets.Label(\"Label-vs-filename plot\", layout=widgets.Layout(width='200px'))\n",
    "\n",
    "\n",
    "def render_plot(*args):\n",
    "    with accordion.children[0]:\n",
    "        \"\"\"\n",
    "        if tab2_dropdown1.value != tab2_dropdown2.value and tab2_dropdown1.value and tab2_dropdown2.value:\n",
    "            x_col = tab2_dropdown1.value\n",
    "            y_col = tab2_dropdown2.value\n",
    "            tab2_xy_plot = px.scatter(df, x=x_col, y=y_col)\n",
    "            tab2_xy_plot.show()\n",
    "            tab2_plot_box = widgets.HBox([tab2_plot_label, tab2_xy_plot])\n",
    "            display(tab)\n",
    "            \n",
    "                \n",
    "        # Define data for the scatter plot\n",
    "        x_data = [1, 2, 3, 4, 5]\n",
    "        y_data = [10, 9, 7, 5, 3]\n",
    "\n",
    "        # Create the scatter plot using Plotly\n",
    "        scatter_plot = go.Scatter(x=x_data, y=y_data, mode='markers')\n",
    "        # Create an empty Plotly figure object\n",
    "        fig = go.Figure(data=scatter_plot)\n",
    "        display(fig.show())\n",
    "        \"\"\"\n",
    "tab2_button_render.on_click(render_plot)\n",
    "\n",
    "tab2_box = widgets.VBox([tab2_dropdown1_box, tab2_dropdown2_box, tab2_warning_box, tab2_button_box])\n",
    "\n",
    "# Attach the update_dropdowns function to the parquet file chooser\n",
    "parquet_chooser.register_callback(update_dropdowns)\n",
    "\n",
    "# Create the vertical tabs widget\n",
    "tab_contents = ['Path settings', 'Columns']\n",
    "children = [tab1_box, tab2_box]\n",
    "tab_widget = widgets.Tab()\n",
    "tab_widget.children = children\n",
    "for i in range(len(children)):\n",
    "    tab_widget.set_title(i, tab_contents[i])\n",
    "\n",
    "# Display the tabs widget\n",
    "display(tab_widget)\n"
   ]
  },
  {
   "cell_type": "code",
   "execution_count": null,
   "metadata": {},
   "outputs": [],
   "source": []
  }
 ],
 "metadata": {
  "kernelspec": {
   "display_name": "Python 3 (ipykernel)",
   "language": "python",
   "name": "python3"
  },
  "language_info": {
   "codemirror_mode": {
    "name": "ipython",
    "version": 3
   },
   "file_extension": ".py",
   "mimetype": "text/x-python",
   "name": "python",
   "nbconvert_exporter": "python",
   "pygments_lexer": "ipython3",
   "version": "3.9.0"
  }
 },
 "nbformat": 4,
 "nbformat_minor": 1
}
