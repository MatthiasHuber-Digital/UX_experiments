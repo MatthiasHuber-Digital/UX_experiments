{
 "cells": [
  {
   "cell_type": "code",
   "execution_count": 1,
   "metadata": {},
   "outputs": [
    {
     "data": {
      "application/vnd.jupyter.widget-view+json": {
       "model_id": "bd8ec4b45bb54f2eafd8668eb0339d21",
       "version_major": 2,
       "version_minor": 0
      },
      "text/plain": [
       "Tab(children=(VBox(children=(HBox(children=(Label(value='Folder chooser:', layout=Layout(width='200px')), File…"
      ]
     },
     "metadata": {},
     "output_type": "display_data"
    }
   ],
   "source": [
    "import ipywidgets as widgets\n",
    "from ipyfilechooser import FileChooser\n",
    "import pandas as pd\n",
    "\n",
    "# Create file choosers\n",
    "folder_chooser = FileChooser(use_dir_icons=True, show_only_dirs=True, title='Select folder:', \n",
    "                             layout=widgets.Layout(width='50%'))\n",
    "parquet_chooser = FileChooser(use_dir_icons=True, filter_pattern=[\"*.parquet\"], title='Select .parquet file:', \n",
    "                              layout=widgets.Layout(width='50%'))\n",
    "\n",
    "# Create dropdown for filepath column selection\n",
    "dropdown_label = widgets.Label(value='Select filepath column:')\n",
    "dropdown = widgets.Dropdown(options=[], layout=widgets.Layout(width='200px'))\n",
    "\n",
    "# Create dropdown for label column selection\n",
    "label_dropdown_label = widgets.Label(value='Select label column:')\n",
    "label_dropdown = widgets.Dropdown(options=[], layout=widgets.Layout(width='200px'))\n",
    "\n",
    "# Function to update dropdowns\n",
    "def update_dropdowns(*args):\n",
    "    if parquet_chooser.selected:\n",
    "        try:\n",
    "            df = pd.read_parquet(parquet_chooser.selected)\n",
    "            dropdown.options = list(df.columns)\n",
    "            label_dropdown.options = list(df.columns)\n",
    "        except:\n",
    "            dropdown.options = []\n",
    "            label_dropdown.options = []\n",
    "\n",
    "# Attach the update_dropdowns function to the parquet file chooser\n",
    "parquet_chooser.register_callback(update_dropdowns)\n",
    "\n",
    "# Create tab 1 contents\n",
    "tab1_folder_label = widgets.Label(value='Folder chooser:', layout=widgets.Layout(width='200px'))\n",
    "tab1_folder_box = widgets.HBox([tab1_folder_label, folder_chooser])\n",
    "tab1_parquet_label = widgets.Label(value='Parquet chooser:', layout=widgets.Layout(width='200px'))\n",
    "tab1_parquet_box = widgets.HBox([tab1_parquet_label, parquet_chooser])\n",
    "tab1_box = widgets.VBox([tab1_folder_box, tab1_parquet_box])\n",
    "\n",
    "# Create tab 2 contents\n",
    "tab2_dropdown_label = widgets.Label(value='Select filepath column:', layout=widgets.Layout(width='200px'))\n",
    "tab2_dropdown_box = widgets.HBox([tab2_dropdown_label, dropdown])\n",
    "label_dropdown_label = widgets.Label(value='Select label column:', layout=widgets.Layout(width='200px'))\n",
    "label_dropdown_box = widgets.HBox([label_dropdown_label, label_dropdown])\n",
    "tab2_box = widgets.VBox([tab2_dropdown_box, label_dropdown_box])\n",
    "\n",
    "# Create the vertical tabs widget\n",
    "tab_contents = ['Tab 1', 'Tab 2']\n",
    "children = [tab1_box, tab2_box]\n",
    "tab = widgets.Tab()\n",
    "tab.children = children\n",
    "for i in range(len(children)):\n",
    "    tab.set_title(i, tab_contents[i])\n",
    "\n",
    "# Display the tabs widget\n",
    "display(tab)\n"
   ]
  },
  {
   "cell_type": "code",
   "execution_count": null,
   "metadata": {},
   "outputs": [],
   "source": []
  },
  {
   "cell_type": "code",
   "execution_count": null,
   "metadata": {},
   "outputs": [],
   "source": []
  }
 ],
 "metadata": {
  "kernelspec": {
   "display_name": "Python 3 (ipykernel)",
   "language": "python",
   "name": "python3"
  },
  "language_info": {
   "codemirror_mode": {
    "name": "ipython",
    "version": 3
   },
   "file_extension": ".py",
   "mimetype": "text/x-python",
   "name": "python",
   "nbconvert_exporter": "python",
   "pygments_lexer": "ipython3",
   "version": "3.9.0"
  }
 },
 "nbformat": 4,
 "nbformat_minor": 1
}
