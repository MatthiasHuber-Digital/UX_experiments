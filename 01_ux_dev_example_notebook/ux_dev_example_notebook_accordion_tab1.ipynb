{
 "cells": [
  {
   "cell_type": "code",
   "execution_count": 1,
   "metadata": {},
   "outputs": [],
   "source": [
    "import ipywidgets as widgets\n",
    "from ipyfilechooser import FileChooser\n",
    "import pandas as pd\n",
    "\n",
    "# Create file chooser for folders\n",
    "folder_label = widgets.Label(value='Choose a folder:')\n",
    "folder_chooser = FileChooser()\n",
    "folder_chooser.use_dir_icons = True\n",
    "\n",
    "# Create file chooser for parquet files\n",
    "parquet_label = widgets.Label(value='Choose a parquet file:')\n",
    "parquet_chooser = FileChooser(file_filter='*.parquet')\n",
    "parquet_chooser.use_dir_icons = True\n",
    "\n",
    "# Create dropdown menu\n",
    "dropdown_label = widgets.Label(value='Select a column:')\n",
    "dropdown = widgets.Dropdown(options=[])\n",
    "\n",
    "# Define callback function to populate dropdown menu with parquet file column names\n",
    "def update_dropdown(*args):\n",
    "    if parquet_chooser.selected:\n",
    "        df = pd.read_parquet(parquet_chooser.selected)\n",
    "        dropdown.options = list(df.columns)\n",
    "\n",
    "# Register callback function to run when parquet file is selected\n",
    "parquet_chooser.register_callback(update_dropdown)\n",
    "\n",
    "# Combine each element with its label into an HBox container\n",
    "folder_box = widgets.HBox([folder_label, folder_chooser])\n",
    "parquet_box = widgets.HBox([parquet_label, parquet_chooser])\n",
    "dropdown_box = widgets.HBox([dropdown_label, dropdown])\n",
    "\n",
    "# Combine all the boxes into a VBox container\n",
    "accordion = widgets.Accordion(children=[widgets.VBox([folder_box, parquet_box, dropdown_box])])\n",
    "accordion.set_title(0, 'tab 1')\n"
   ]
  },
  {
   "cell_type": "code",
   "execution_count": 2,
   "metadata": {},
   "outputs": [
    {
     "data": {
      "application/vnd.jupyter.widget-view+json": {
       "model_id": "d6bc9a17262e47dfa97df9f9addd2c05",
       "version_major": 2,
       "version_minor": 0
      },
      "text/plain": [
       "Accordion(children=(VBox(children=(HBox(children=(Label(value='Choose a folder:'), FileChooser(path='C:\\worksp…"
      ]
     },
     "metadata": {},
     "output_type": "display_data"
    }
   ],
   "source": [
    "# Display the accordion\n",
    "display(accordion)"
   ]
  },
  {
   "cell_type": "code",
   "execution_count": null,
   "metadata": {},
   "outputs": [],
   "source": []
  }
 ],
 "metadata": {
  "kernelspec": {
   "display_name": "Python 3 (ipykernel)",
   "language": "python",
   "name": "python3"
  },
  "language_info": {
   "codemirror_mode": {
    "name": "ipython",
    "version": 3
   },
   "file_extension": ".py",
   "mimetype": "text/x-python",
   "name": "python",
   "nbconvert_exporter": "python",
   "pygments_lexer": "ipython3",
   "version": "3.9.0"
  }
 },
 "nbformat": 4,
 "nbformat_minor": 1
}
